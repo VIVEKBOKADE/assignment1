{
 "cells": [
  {
   "cell_type": "code",
   "execution_count": 2,
   "id": "cd5cb6d9-4e43-413c-b1d8-61a8bb6a0a3c",
   "metadata": {},
   "outputs": [
    {
     "data": {
      "text/plain": [
       "' Q1. What is an Exception in python? Write the difference between Exceptions and syntax errors.'"
      ]
     },
     "execution_count": 2,
     "metadata": {},
     "output_type": "execute_result"
    }
   ],
   "source": [
    "\"\"\" Q1. What is an Exception in python? Write the difference between Exceptions and syntax errors.\"\"\"\n",
    "\n",
    "# An exception is a condition that interrupts the normal flow of the program.\n",
    "# An error is an issue in a program that prevents the program from completing its task.Error in syntax is called syntax error."
   ]
  },
  {
   "cell_type": "code",
   "execution_count": 4,
   "id": "67989fd2-ffb2-4190-9f6e-ff9983acdca5",
   "metadata": {},
   "outputs": [
    {
     "data": {
      "text/plain": [
       "'Q2. What happens when an exception is not handled? Explain with an example.'"
      ]
     },
     "execution_count": 4,
     "metadata": {},
     "output_type": "execute_result"
    }
   ],
   "source": [
    "\"\"\"Q2. What happens when an exception is not handled? Explain with an example.\"\"\"\n",
    "\n",
    "# If the exception is not handled by an except clause, the exception is re-raised after the finally clause has been executed "
   ]
  },
  {
   "cell_type": "code",
   "execution_count": 7,
   "id": "27831660-aed6-432e-9c8f-7c288a1cccd4",
   "metadata": {},
   "outputs": [
    {
     "name": "stdout",
     "output_type": "stream",
     "text": [
      "21.0\n",
      "3.5\n",
      "Error: cannot divide by zero\n",
      "42.0\n"
     ]
    }
   ],
   "source": [
    "\"\"\"Q3. Which Python statements are used to catch and handle exceptions? Explain with an example.\"\"\"\n",
    "\n",
    "# Try and except statements are used to catch and handle exceptions in Python. Statements that can raise exceptions are \n",
    "# kept inside the try clause and the statements that handle the exception are written inside except clause.\n",
    "def spam(divideby):\n",
    "    try:\n",
    "        return(42/divideby)\n",
    "    except ZeroDivisionError:\n",
    "        return(\"Error: cannot divide by zero\")\n",
    "        \n",
    "print(spam(2))\n",
    "print(spam(12))\n",
    "print(spam(0))\n",
    "print(spam(1))"
   ]
  },
  {
   "cell_type": "code",
   "execution_count": 2,
   "id": "3a27a3c3-0e41-49a4-9d81-ad78b78e50b2",
   "metadata": {},
   "outputs": [
    {
     "name": "stdout",
     "output_type": "stream",
     "text": [
      "Else will execute if except block not execute\n",
      "finally will execute itself in any condition\n"
     ]
    }
   ],
   "source": [
    "\"\"\"Q4. Explain with an example:\n",
    "# try and else\n",
    "# finally\n",
    "# raise\"\"\"\n",
    "\n",
    "try:\n",
    "    f=open(\"TEst.txt\",'w')\n",
    "    f.write(\"This is exception learning file\")\n",
    "    \n",
    "except Exception as e:\n",
    "    print(\"This is my except block\",e)\n",
    "else:\n",
    "    f.close()\n",
    "    print(\"Else will execute if except block not execute\")\n",
    "finally:\n",
    "    print(\"finally will execute itself in any condition\")"
   ]
  },
  {
   "cell_type": "code",
   "execution_count": 2,
   "id": "42bfa9f9-ec9b-472d-9c25-78e0b424ac94",
   "metadata": {},
   "outputs": [
    {
     "ename": "CustomError",
     "evalue": "Example of Custom Exceptions in Python",
     "output_type": "error",
     "traceback": [
      "\u001b[0;31m---------------------------------------------------------------------------\u001b[0m",
      "\u001b[0;31mCustomError\u001b[0m                               Traceback (most recent call last)",
      "Cell \u001b[0;32mIn[2], line 14\u001b[0m\n\u001b[1;32m     11\u001b[0m \u001b[38;5;28;01mclass\u001b[39;00m \u001b[38;5;21;01mCustomError\u001b[39;00m(\u001b[38;5;167;01mException\u001b[39;00m):\n\u001b[1;32m     12\u001b[0m     \u001b[38;5;28;01mpass\u001b[39;00m\n\u001b[0;32m---> 14\u001b[0m \u001b[38;5;28;01mraise\u001b[39;00m CustomError(\u001b[38;5;124m\"\u001b[39m\u001b[38;5;124mExample of Custom Exceptions in Python\u001b[39m\u001b[38;5;124m\"\u001b[39m)\n",
      "\u001b[0;31mCustomError\u001b[0m: Example of Custom Exceptions in Python"
     ]
    }
   ],
   "source": [
    "\"\"\"Q5. What are Custom Exceptions in python? Why do we need Custom Exceptions? Explain with an example.\"\"\"\n",
    "\n",
    "\n",
    "#In simple words, we can say that a User-Defined Exception or custom exception is creating your own exception class and throwing \n",
    "#that exception using the 'throw' keyword.\n",
    "#Custom exceptions are helpful in many situations. They allow you to define your own error conditions and handle them in a more \n",
    "#specific and meaningful way.\n",
    "#For example, let's say you are writing a program that reads data from a file. If the file is not found, Python will raise a \n",
    "#FileNotFoundError\n",
    "\n",
    "class CustomError(Exception):\n",
    "    pass\n",
    "\n",
    "raise CustomError(\"Example of Custom Exceptions in Python\")"
   ]
  },
  {
   "cell_type": "code",
   "execution_count": 1,
   "id": "4811c104-e61a-4574-9f31-aa84883f75a1",
   "metadata": {},
   "outputs": [
    {
     "ename": "CustomError",
     "evalue": "Example of Custom Exceptions in Python",
     "output_type": "error",
     "traceback": [
      "\u001b[0;31m---------------------------------------------------------------------------\u001b[0m",
      "\u001b[0;31mCustomError\u001b[0m                               Traceback (most recent call last)",
      "Cell \u001b[0;32mIn[1], line 6\u001b[0m\n\u001b[1;32m      3\u001b[0m \u001b[38;5;28;01mclass\u001b[39;00m \u001b[38;5;21;01mCustomError\u001b[39;00m(\u001b[38;5;167;01mException\u001b[39;00m):\n\u001b[1;32m      4\u001b[0m     \u001b[38;5;28;01mpass\u001b[39;00m\n\u001b[0;32m----> 6\u001b[0m \u001b[38;5;28;01mraise\u001b[39;00m CustomError(\u001b[38;5;124m\"\u001b[39m\u001b[38;5;124mExample of Custom Exceptions in Python\u001b[39m\u001b[38;5;124m\"\u001b[39m)\n",
      "\u001b[0;31mCustomError\u001b[0m: Example of Custom Exceptions in Python"
     ]
    }
   ],
   "source": [
    "\"\"\"Q6. Create a custom exception class. Use this class to handle an exception.\"\"\"\n",
    "\n",
    "class CustomError(Exception):\n",
    "    pass\n",
    "\n",
    "raise CustomError(\"Example of Custom Exceptions in Python\")"
   ]
  },
  {
   "cell_type": "code",
   "execution_count": null,
   "id": "7dea1975-98e2-415f-87ec-9934b05c59ea",
   "metadata": {},
   "outputs": [],
   "source": []
  }
 ],
 "metadata": {
  "kernelspec": {
   "display_name": "Python 3 (ipykernel)",
   "language": "python",
   "name": "python3"
  },
  "language_info": {
   "codemirror_mode": {
    "name": "ipython",
    "version": 3
   },
   "file_extension": ".py",
   "mimetype": "text/x-python",
   "name": "python",
   "nbconvert_exporter": "python",
   "pygments_lexer": "ipython3",
   "version": "3.10.8"
  }
 },
 "nbformat": 4,
 "nbformat_minor": 5
}
