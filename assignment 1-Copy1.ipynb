{
 "cells": [
  {
   "cell_type": "code",
   "execution_count": 2,
   "id": "0afdae28-90e6-468e-9b70-bb3b4271f488",
   "metadata": {},
   "outputs": [],
   "source": [
    "#Q.1"
   ]
  },
  {
   "cell_type": "code",
   "execution_count": 3,
   "id": "6d2e6b75-2734-4694-b640-afb7225c241c",
   "metadata": {},
   "outputs": [
    {
     "name": "stdout",
     "output_type": "stream",
     "text": [
      "my string\n"
     ]
    }
   ],
   "source": [
    "str=(\"my string\")\n",
    "print(str)"
   ]
  },
  {
   "cell_type": "code",
   "execution_count": 4,
   "id": "4c5aa3d8-6fcf-4c68-beaf-948885a4e332",
   "metadata": {},
   "outputs": [
    {
     "name": "stdout",
     "output_type": "stream",
     "text": [
      "[1, 1.4, 'string', [5, 9], (4, 'hi', 8)]\n"
     ]
    }
   ],
   "source": [
    "list=[1,1.4,(\"string\"),[5,9],(4,(\"hi\"),8)]\n",
    "print(list)"
   ]
  },
  {
   "cell_type": "code",
   "execution_count": 5,
   "id": "fc47aef7-bf20-46aa-89b3-5f114851986b",
   "metadata": {},
   "outputs": [
    {
     "name": "stdout",
     "output_type": "stream",
     "text": [
      "7.509\n"
     ]
    }
   ],
   "source": [
    "float=7.509\n",
    "print(float)"
   ]
  },
  {
   "cell_type": "code",
   "execution_count": 6,
   "id": "72ba2a6a-6afc-4d39-8117-501fa3f681db",
   "metadata": {},
   "outputs": [
    {
     "name": "stdout",
     "output_type": "stream",
     "text": [
      "(3, 3.5, 'hi', [6, 'hlo'], 4)\n"
     ]
    }
   ],
   "source": [
    "tuple=(3,3.5,(\"hi\"),[6,(\"hlo\")],4)\n",
    "print(tuple)"
   ]
  },
  {
   "cell_type": "code",
   "execution_count": 7,
   "id": "82b531ce-22a5-45d8-8a25-942da7ce4d84",
   "metadata": {},
   "outputs": [],
   "source": [
    "#Q.2"
   ]
  },
  {
   "cell_type": "code",
   "execution_count": 8,
   "id": "b17854ec-bd75-4977-b87e-507c4d940e6c",
   "metadata": {},
   "outputs": [
    {
     "data": {
      "text/plain": [
       "str"
      ]
     },
     "execution_count": 8,
     "metadata": {},
     "output_type": "execute_result"
    }
   ],
   "source": [
    "var1=' '\n",
    "type(var1)"
   ]
  },
  {
   "cell_type": "code",
   "execution_count": 9,
   "id": "eeab278a-b0d5-4d1e-ac96-a810e28e67ea",
   "metadata": {},
   "outputs": [
    {
     "data": {
      "text/plain": [
       "str"
      ]
     },
     "execution_count": 9,
     "metadata": {},
     "output_type": "execute_result"
    }
   ],
   "source": [
    "var2='[DS,ML,Python]'\n",
    "type(var2)\n"
   ]
  },
  {
   "cell_type": "code",
   "execution_count": 10,
   "id": "477d68c0-3a7f-4f78-95a8-15bf6820b31f",
   "metadata": {},
   "outputs": [
    {
     "data": {
      "text/plain": [
       "list"
      ]
     },
     "execution_count": 10,
     "metadata": {},
     "output_type": "execute_result"
    }
   ],
   "source": [
    "var3=['DS','ML','python']\n",
    "type(var3)"
   ]
  },
  {
   "cell_type": "code",
   "execution_count": 11,
   "id": "6cfccdf3-c9db-463e-8eca-0b3f865f2a9f",
   "metadata": {},
   "outputs": [
    {
     "data": {
      "text/plain": [
       "float"
      ]
     },
     "execution_count": 11,
     "metadata": {},
     "output_type": "execute_result"
    }
   ],
   "source": [
    "var4=1.\n",
    "type(var4)"
   ]
  },
  {
   "cell_type": "code",
   "execution_count": 12,
   "id": "2d1fd09f-fe5c-40e0-8e36-2852ad42f27c",
   "metadata": {},
   "outputs": [],
   "source": [
    "#Q.3"
   ]
  },
  {
   "cell_type": "code",
   "execution_count": 13,
   "id": "f3cd81a5-590c-4dfa-8d0b-b121d4ad4e3d",
   "metadata": {},
   "outputs": [],
   "source": [
    "a=5"
   ]
  },
  {
   "cell_type": "code",
   "execution_count": 14,
   "id": "a762870c-1db9-4ea7-aa09-9196808dd57a",
   "metadata": {},
   "outputs": [],
   "source": [
    "b=15"
   ]
  },
  {
   "cell_type": "code",
   "execution_count": 15,
   "id": "a9f99f0d-13f6-4b62-a87c-85e8f918f2e3",
   "metadata": {},
   "outputs": [
    {
     "data": {
      "text/plain": [
       "3.0"
      ]
     },
     "execution_count": 15,
     "metadata": {},
     "output_type": "execute_result"
    }
   ],
   "source": [
    "b/a"
   ]
  },
  {
   "cell_type": "code",
   "execution_count": 16,
   "id": "2f70c7cd-7ac9-46ba-9a3b-e17e11c91284",
   "metadata": {},
   "outputs": [
    {
     "data": {
      "text/plain": [
       "0"
      ]
     },
     "execution_count": 16,
     "metadata": {},
     "output_type": "execute_result"
    }
   ],
   "source": [
    "b%a"
   ]
  },
  {
   "cell_type": "code",
   "execution_count": 17,
   "id": "9bb928c4-5e47-497f-8805-2fa6cba320e9",
   "metadata": {},
   "outputs": [],
   "source": [
    "c=4"
   ]
  },
  {
   "cell_type": "code",
   "execution_count": 18,
   "id": "36944725-814e-401e-afe0-3161393a1cc6",
   "metadata": {},
   "outputs": [
    {
     "data": {
      "text/plain": [
       "3"
      ]
     },
     "execution_count": 18,
     "metadata": {},
     "output_type": "execute_result"
    }
   ],
   "source": [
    "b//c"
   ]
  },
  {
   "cell_type": "code",
   "execution_count": 19,
   "id": "443fcebf-9a97-4c4e-b731-c8def8b55112",
   "metadata": {},
   "outputs": [
    {
     "data": {
      "text/plain": [
       "759375"
      ]
     },
     "execution_count": 19,
     "metadata": {},
     "output_type": "execute_result"
    }
   ],
   "source": [
    "b**a"
   ]
  },
  {
   "cell_type": "code",
   "execution_count": 20,
   "id": "afafeac4-8233-494d-90a5-5cb3b2af4970",
   "metadata": {},
   "outputs": [],
   "source": [
    "#Q.4"
   ]
  },
  {
   "cell_type": "code",
   "execution_count": 21,
   "id": "58a1b427-fa83-431a-b41a-68d3daa4b95e",
   "metadata": {},
   "outputs": [
    {
     "name": "stdout",
     "output_type": "stream",
     "text": [
      "3\n",
      "<class 'int'>\n",
      "3.5\n",
      "<class 'float'>\n",
      "hi\n",
      "<class 'str'>\n",
      "(5, 'pw', 8)\n",
      "<class 'tuple'>\n",
      "[9, 9.8, 'hlo']\n",
      "<class 'list'>\n",
      "a\n",
      "<class 'str'>\n",
      "()\n",
      "<class 'tuple'>\n",
      "pw\n",
      "<class 'str'>\n",
      "4\n",
      "<class 'int'>\n",
      "4.5\n",
      "<class 'float'>\n"
     ]
    }
   ],
   "source": [
    "list1=[3,3.5,'hi',(5,'pw',8),[9,9.8,'hlo'],'a',(),'pw',4,4.5]\n",
    "for i in list1:\n",
    "    print(i)\n",
    "    print(type(i))"
   ]
  },
  {
   "cell_type": "code",
   "execution_count": 22,
   "id": "0fef949a-b058-4966-a13e-4f409138fc42",
   "metadata": {},
   "outputs": [],
   "source": [
    "#Q.5"
   ]
  },
  {
   "cell_type": "code",
   "execution_count": 55,
   "id": "ff800677-32a1-44b3-b041-994e942950ec",
   "metadata": {},
   "outputs": [
    {
     "name": "stdout",
     "output_type": "stream",
     "text": [
      "It's divisible\n",
      "divided 3 times\n"
     ]
    }
   ],
   "source": [
    "A=40\n",
    "B=2\n",
    "\n",
    "\n",
    "if A % B == 0:\n",
    "    print(\"It's divisible\")\n",
    "    count=0\n",
    "    \n",
    "    while A%B==0:\n",
    "        A=A/B\n",
    "        count+=1\n",
    "else:\n",
    "    print(\"It's non-divisible\")\n",
    "    \n",
    "print(\"divided\",+count,\"times\")\n"
   ]
  },
  {
   "cell_type": "code",
   "execution_count": null,
   "id": "be550089-fb42-46c1-a104-312afcc0a82e",
   "metadata": {},
   "outputs": [],
   "source": [
    "#Q.6"
   ]
  },
  {
   "cell_type": "code",
   "execution_count": 72,
   "id": "ed968f6a-dc33-4546-b52d-1754ca7d56f3",
   "metadata": {},
   "outputs": [
    {
     "name": "stdout",
     "output_type": "stream",
     "text": [
      "1 not divisible by 3\n",
      "2 not divisible by 3\n",
      "3 divisible by 3\n",
      "3\n",
      "4 not divisible by 3\n",
      "5 not divisible by 3\n",
      "6 divisible by 3\n",
      "6\n",
      "7 not divisible by 3\n",
      "8 not divisible by 3\n",
      "9 divisible by 3\n",
      "9\n",
      "10 not divisible by 3\n",
      "11 not divisible by 3\n",
      "12 divisible by 3\n",
      "12\n",
      "13 not divisible by 3\n",
      "14 not divisible by 3\n",
      "15 divisible by 3\n",
      "15\n",
      "16 not divisible by 3\n",
      "17 not divisible by 3\n",
      "18 divisible by 3\n",
      "18\n",
      "19 not divisible by 3\n",
      "20 not divisible by 3\n",
      "21 divisible by 3\n",
      "21\n",
      "22 not divisible by 3\n",
      "23 not divisible by 3\n",
      "24 divisible by 3\n",
      "24\n",
      "25 not divisible by 3\n",
      "26 not divisible by 3\n"
     ]
    }
   ],
   "source": [
    "list=[1,2,3,4,5,6,7,8,9,10,11,12,13,14,15,16,17,18,19,20,21,22,23,24,25,26]\n",
    "for i in list:\n",
    "    if i%3==0:\n",
    "        print(+i,\"divisible by 3\")\n",
    "        print(i)\n",
    "    else:\n",
    "        print(+i,\"not divisible by 3\")"
   ]
  },
  {
   "cell_type": "code",
   "execution_count": null,
   "id": "47d32704-ca0d-4ddb-83c4-20082e885038",
   "metadata": {},
   "outputs": [],
   "source": [
    "#Q.7"
   ]
  },
  {
   "cell_type": "code",
   "execution_count": 79,
   "id": "a1ce31dd-856c-4584-a358-b8e52c1dfb6e",
   "metadata": {},
   "outputs": [
    {
     "name": "stdout",
     "output_type": "stream",
     "text": [
      "[2, 4.3, 'hi']\n",
      "[2, 4.3, 'pw']\n"
     ]
    },
    {
     "data": {
      "text/plain": [
       "[2, 4.3, 'pw']"
      ]
     },
     "execution_count": 79,
     "metadata": {},
     "output_type": "execute_result"
    }
   ],
   "source": [
    "# mutable data type is one in which we can change the data or update while running\n",
    "list=[2,4.3,'hi']\n",
    "print(list)\n",
    "list[2]='pw'\n",
    "print(list)"
   ]
  },
  {
   "cell_type": "code",
   "execution_count": 100,
   "id": "8aebd7a8-2af1-438b-9cc5-71d48e6bfa79",
   "metadata": {},
   "outputs": [
    {
     "ename": "TypeError",
     "evalue": "'str' object does not support item assignment",
     "output_type": "error",
     "traceback": [
      "\u001b[0;31m---------------------------------------------------------------------------\u001b[0m",
      "\u001b[0;31mTypeError\u001b[0m                                 Traceback (most recent call last)",
      "Cell \u001b[0;32mIn[100], line 3\u001b[0m\n\u001b[1;32m      1\u001b[0m \u001b[38;5;66;03m#immutable data type is one in which we can't change the data or update while running\u001b[39;00m\n\u001b[1;32m      2\u001b[0m string\u001b[38;5;241m=\u001b[39m\u001b[38;5;124m'\u001b[39m\u001b[38;5;124mHello class\u001b[39m\u001b[38;5;124m'\u001b[39m\n\u001b[0;32m----> 3\u001b[0m \u001b[43mstring\u001b[49m\u001b[43m[\u001b[49m\u001b[38;5;241;43m5\u001b[39;49m\u001b[43m]\u001b[49m\u001b[38;5;241m=\u001b[39m\u001b[38;5;124m'\u001b[39m\u001b[38;5;124mo\u001b[39m\u001b[38;5;124m'\u001b[39m\n\u001b[1;32m      4\u001b[0m string\n",
      "\u001b[0;31mTypeError\u001b[0m: 'str' object does not support item assignment"
     ]
    }
   ],
   "source": [
    "#immutable data type is one in which we can't change the data or update while running\n",
    "string='Hello class'\n",
    "string[5]='o'\n",
    "string"
   ]
  },
  {
   "cell_type": "code",
   "execution_count": null,
   "id": "0d3dd368-9706-4b28-a73a-0868e5650610",
   "metadata": {},
   "outputs": [],
   "source": [
    "#END"
   ]
  }
 ],
 "metadata": {
  "kernelspec": {
   "display_name": "Python 3 (ipykernel)",
   "language": "python",
   "name": "python3"
  },
  "language_info": {
   "codemirror_mode": {
    "name": "ipython",
    "version": 3
   },
   "file_extension": ".py",
   "mimetype": "text/x-python",
   "name": "python",
   "nbconvert_exporter": "python",
   "pygments_lexer": "ipython3",
   "version": "3.10.8"
  }
 },
 "nbformat": 4,
 "nbformat_minor": 5
}
