{
 "cells": [
  {
   "cell_type": "code",
   "execution_count": 2,
   "id": "943a60fc-fabb-4056-a602-4d85a346c820",
   "metadata": {},
   "outputs": [
    {
     "data": {
      "text/plain": [
       "'Q1. What is multithreading in python? Why is it used? Name the module used to handle threads in python'"
      ]
     },
     "execution_count": 2,
     "metadata": {},
     "output_type": "execute_result"
    }
   ],
   "source": [
    "\"\"\"Q1. What is multithreading in python? Why is it used? Name the module used to handle threads in python\"\"\"\n",
    "\n",
    "#Multithreading is defined as the ability of a processor to execute multiple threads concurrently. In a simple, single-core CPU, \n",
    "#it is achieved using frequent switching between threads. This is termed context switching.\n",
    "#Multithreading makes multitasking possible when it breaks programs into smaller, executable threads. Each thread has the programming \n",
    "#elements needed to execute the main program, and the computer executes each thread one at a time.\n",
    "#The threading module is a high-level implementation of multithreading used to deploy an application in Python. To use multithreading, \n",
    "#we need to import the threading module in Python Program. A start() method is used to initiate the activity of a thread."
   ]
  },
  {
   "cell_type": "code",
   "execution_count": 3,
   "id": "c42350b5-7e3e-4edb-b479-761b367862b5",
   "metadata": {},
   "outputs": [
    {
     "data": {
      "text/plain": [
       "'Q2.Why threading module used? Write the use of the following functions:\\n 1.activeCount()\\n 2.currentThread()\\n 3.enumerate()'"
      ]
     },
     "execution_count": 3,
     "metadata": {},
     "output_type": "execute_result"
    }
   ],
   "source": [
    "\"\"\"Q2.Why threading module used? Write the use of the following functions:\n",
    " 1.activeCount()\n",
    " 2.currentThread()\n",
    " 3.enumerate()\"\"\"\n",
    "\n",
    "#The threading module is a high-level implementation of multithreading used to deploy an application in Python. To use multithreading, \n",
    "#we need to import the threading module in Python Program. A start() method is used to initiate the activity of a thread.\n",
    "# 1.The activeCount() method of thread class is used to return the number of active threads in the current thread's thread group.\n",
    "#The value returned is only an estimate because the number of threads may change dynamically while this method traverses internal data structures\n",
    "# 2.currentThread. Returns a reference to the currently executing thread object. Returns: the currently executing thread.\n",
    "# 3.Enumerate is a built-in function in python that allows you to keep track of the number of iterations (loops) in a loop.\\\n",
    "#This enumerate object contains a count (from the start, which always defaults to 0) and a value obtained from iterating over the iterable object"
   ]
  },
  {
   "cell_type": "code",
   "execution_count": 4,
   "id": "907da627-8584-47d7-800c-4eaac0fdd165",
   "metadata": {},
   "outputs": [
    {
     "data": {
      "text/plain": [
       "'Q3. Explain the following functions:\\n1.run()\\n2.start()\\n3.join()\\n4.isAlive()'"
      ]
     },
     "execution_count": 4,
     "metadata": {},
     "output_type": "execute_result"
    }
   ],
   "source": [
    "\"\"\"Q3. Explain the following functions:\n",
    "1.run()\n",
    "2.start()\n",
    "3.join()\n",
    "4.isAlive()\"\"\"\n",
    "\n",
    "#run() − The run() method is the entry point for a thread.\n",
    "#start() − The start() method starts a thread by calling the run method.\n",
    "#join([time]) − The join() waits for threads to terminate.\n",
    "#isAlive() − The isAlive() method checks whether a thread is still executing."
   ]
  },
  {
   "cell_type": "code",
   "execution_count": 5,
   "id": "fdd059c2-9a3e-4928-b848-71cf0202b792",
   "metadata": {},
   "outputs": [
    {
     "name": "stdout",
     "output_type": "stream",
     "text": [
      "Original list of integers:\n",
      "[1, 2, 3, 4, 5, 6, 7, 8, 9, 10]\n",
      "\n",
      "Square every number of the said list:\n",
      "[1, 4, 9, 16, 25, 36, 49, 64, 81, 100]\n",
      "\n",
      "Cube every number of the said list:\n",
      "[1, 8, 27, 64, 125, 216, 343, 512, 729, 1000]\n"
     ]
    }
   ],
   "source": [
    "\"\"\"Q4.Write a python program to create two threads. Thread one must print the list of squares and thread\n",
    "two must print the list of cubes.\"\"\"\n",
    "\n",
    "nums = [1, 2, 3, 4, 5, 6, 7, 8, 9, 10]\n",
    "print(\"Original list of integers:\")\n",
    "print(nums)\n",
    "\n",
    "print(\"\\nSquare every number of the said list:\")\n",
    "square_nums = list(map(lambda x: x ** 2, nums))\n",
    "print(square_nums)\n",
    "\n",
    "\n",
    "print(\"\\nCube every number of the said list:\")\n",
    "cube_nums = list(map(lambda x: x ** 3, nums))\n",
    "print(cube_nums) "
   ]
  },
  {
   "cell_type": "code",
   "execution_count": 6,
   "id": "d99b8a19-ea70-41c9-a49b-1e6fcd42044b",
   "metadata": {},
   "outputs": [
    {
     "data": {
      "text/plain": [
       "'Q5.State advantages and disadvantages of multithreading.'"
      ]
     },
     "execution_count": 6,
     "metadata": {},
     "output_type": "execute_result"
    }
   ],
   "source": [
    "\"\"\"Q5.State advantages and disadvantages of multithreading.\"\"\"\n",
    "\n",
    "#Advantages:\n",
    "\n",
    "#It doesn’t block the user. This is because threads are independent of each other.\n",
    "#Better use of system resources is possible since threads execute tasks parallely.\n",
    "#Enhanced performance on multi-processor machines.\n",
    "#Multi-threaded servers and interactive GUIs use multithreading exclusively.\n",
    "\n",
    "#Disadvantages:\n",
    "\n",
    "#As number of threads increase, complexity increases.\n",
    "#Synchronization of shared resources (objects, data) is necessary.\n",
    "#It is difficult to debug, result is sometimes unpredictable.\n",
    "#Potential deadlocks which leads to starvation, i.e. some threads may not be served with a bad design\n",
    "#Constructing and synchronizing threads is CPU/memory intensive."
   ]
  },
  {
   "cell_type": "code",
   "execution_count": null,
   "id": "ab9a64a1-7162-478b-ae6f-170ab95be9ec",
   "metadata": {},
   "outputs": [],
   "source": [
    "\"\"\"Q6. Explain deadlocks and race conditions.\"\"\"\n",
    "\n",
    "#Both share some similarities, such as they both occur in multi-thread solutions and hamper device performance.However, both are not the same.\n",
    "#A race condition occurs when two threads use the same variable at a given time.\n",
    "#Deadlock exists when two threads seek one lock simultaneously."
   ]
  }
 ],
 "metadata": {
  "kernelspec": {
   "display_name": "Python 3 (ipykernel)",
   "language": "python",
   "name": "python3"
  },
  "language_info": {
   "codemirror_mode": {
    "name": "ipython",
    "version": 3
   },
   "file_extension": ".py",
   "mimetype": "text/x-python",
   "name": "python",
   "nbconvert_exporter": "python",
   "pygments_lexer": "ipython3",
   "version": "3.10.8"
  }
 },
 "nbformat": 4,
 "nbformat_minor": 5
}
