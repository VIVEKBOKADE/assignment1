{
 "cells": [
  {
   "cell_type": "code",
   "execution_count": 19,
   "id": "aab53370-e29e-4b95-a856-b00a2b6f3d34",
   "metadata": {},
   "outputs": [
    {
     "name": "stdout",
     "output_type": "stream",
     "text": [
      "7\n"
     ]
    }
   ],
   "source": [
    "#Q.1\n",
    "\"\"\"\n",
    "There are two type of comment in python\n",
    "1)Multi-line comment(\"\"\" \"\"\")\n",
    "2)Single-line comment(#)\n",
    "\"\"\"\n",
    "\n",
    "# code\n",
    "a=3\n",
    "b=4\n",
    "print(a+b)"
   ]
  },
  {
   "cell_type": "code",
   "execution_count": 20,
   "id": "74e0b064-3d86-4b55-83b7-2d89f78299f8",
   "metadata": {},
   "outputs": [
    {
     "name": "stdout",
     "output_type": "stream",
     "text": [
      "hi\n"
     ]
    }
   ],
   "source": [
    "#Q.2\n",
    "How do you convert one data type to another in Python?\n",
    "#Variable is simply a container for storing data value.\n",
    "Var='hi'\n",
    "print(Var)"
   ]
  },
  {
   "cell_type": "code",
   "execution_count": 21,
   "id": "cd25aa5e-6b90-4c01-b1de-49794883b078",
   "metadata": {},
   "outputs": [
    {
     "name": "stdout",
     "output_type": "stream",
     "text": [
      "Before convertion <class 'int'>\n",
      "After convertion <class 'float'>\n"
     ]
    }
   ],
   "source": [
    "#Q.3 How do you convert one data type to another in Python?\n",
    "\n",
    "Var1=3\n",
    "print(\"Before convertion\",type(Var1))\n",
    "Var1=float(Var1)\n",
    "print(\"After convertion\",type(Var1))"
   ]
  },
  {
   "cell_type": "code",
   "execution_count": 26,
   "id": "a4909dd5-7bc6-464a-8f4e-fd95aebf6296",
   "metadata": {},
   "outputs": [],
   "source": [
    "#Q.4 How do you write and execute a Python script from the command line?\n"
   ]
  },
  {
   "cell_type": "code",
   "execution_count": 32,
   "id": "618d1f61-d066-44ba-9b70-252c0e1fb601",
   "metadata": {},
   "outputs": [
    {
     "name": "stdout",
     "output_type": "stream",
     "text": [
      "[2, 3]\n"
     ]
    }
   ],
   "source": [
    "#Q.5 What is a complex number in mathematics, and how is it represented in Python?\n",
    "\n",
    "my_list=[1,2,3,4,5]\n",
    "print(my_list[1:3])"
   ]
  },
  {
   "cell_type": "code",
   "execution_count": 34,
   "id": "fa79a054-5d36-432c-bb08-5169704277d3",
   "metadata": {},
   "outputs": [
    {
     "name": "stdout",
     "output_type": "stream",
     "text": [
      "<class 'complex'>\n"
     ]
    }
   ],
   "source": [
    "#Q.6\n",
    "\"\"\"What is a complex number in mathematics, and how is it represented in Python?\"\"\"\n",
    "# A complex number is a number which contain imaginary part like 2+3j\n",
    "\n",
    "complex_number=2+3j\n",
    "print(type(complex_number))"
   ]
  },
  {
   "cell_type": "code",
   "execution_count": 35,
   "id": "50d5f1f0-8328-4dbe-9b5c-56673ae064f2",
   "metadata": {},
   "outputs": [],
   "source": [
    "#Q.7 What is the correct way to declare a variable named age and assign the value 25 to it?\n",
    "\n",
    "age=25"
   ]
  },
  {
   "cell_type": "code",
   "execution_count": 36,
   "id": "6700b64b-e181-4fde-95c0-245cfea00fc9",
   "metadata": {},
   "outputs": [
    {
     "name": "stdout",
     "output_type": "stream",
     "text": [
      "<class 'float'>\n"
     ]
    }
   ],
   "source": [
    "\"\"\"Q.8 Declare a variable named price and assign the value 9.99 to it. What data type does this variable\n",
    "belong to?\"\"\"\n",
    "\n",
    "price=9.99\n",
    "print(type(price))"
   ]
  },
  {
   "cell_type": "code",
   "execution_count": 37,
   "id": "8d03d668-6a67-40a9-906a-a98241a6fb22",
   "metadata": {},
   "outputs": [
    {
     "name": "stdout",
     "output_type": "stream",
     "text": [
      "Vivek Bokade\n"
     ]
    }
   ],
   "source": [
    "\"\"\"Q.9 Create a variable named name and assign your full name to it as a string. How would you print the\n",
    "value of this variable?\"\"\"\n",
    "\n",
    "name=\"Vivek Bokade\"\n",
    "print(name)"
   ]
  },
  {
   "cell_type": "code",
   "execution_count": 2,
   "id": "307b67a7-d3e3-480d-9e18-ba8f21cabba7",
   "metadata": {},
   "outputs": [
    {
     "name": "stdout",
     "output_type": "stream",
     "text": [
      "World\n"
     ]
    }
   ],
   "source": [
    "#Q.10 Given the string \"Hello, World!\", extract the substring \"World\".\n",
    "\n",
    "string=\"Hello, World!\"\n",
    "stri=string[7:12]\n",
    "print(stri)"
   ]
  },
  {
   "cell_type": "code",
   "execution_count": 8,
   "id": "d9100564-d97a-44a5-8180-e2ec65ed94b2",
   "metadata": {},
   "outputs": [
    {
     "name": "stdin",
     "output_type": "stream",
     "text": [
      "is you a Student:True or False True\n"
     ]
    },
    {
     "name": "stdout",
     "output_type": "stream",
     "text": [
      "It's a student\n"
     ]
    }
   ],
   "source": [
    "\"\"\"Q.11 Create a variable named \"is_student\" and assign it a boolean value indicating whether you are\n",
    "currently a student or not.\"\"\"\n",
    "\n",
    "is_student=input(\"is you a Student:True or False\")\n",
    "if bool(is_student)==1:\n",
    "    print(\"It's a student\")\n",
    "else:\n",
    "    print(\"It's not a student\")"
   ]
  }
 ],
 "metadata": {
  "kernelspec": {
   "display_name": "Python 3 (ipykernel)",
   "language": "python",
   "name": "python3"
  },
  "language_info": {
   "codemirror_mode": {
    "name": "ipython",
    "version": 3
   },
   "file_extension": ".py",
   "mimetype": "text/x-python",
   "name": "python",
   "nbconvert_exporter": "python",
   "pygments_lexer": "ipython3",
   "version": "3.10.8"
  }
 },
 "nbformat": 4,
 "nbformat_minor": 5
}
