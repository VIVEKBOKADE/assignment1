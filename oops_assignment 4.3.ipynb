{
 "cells": [
  {
   "cell_type": "code",
   "execution_count": 3,
   "id": "4a758ec4-89e3-4d87-a8d9-0e4e3b32aada",
   "metadata": {},
   "outputs": [
    {
     "name": "stdout",
     "output_type": "stream",
     "text": [
      "Mileage is 30kmpl\n",
      "Mileage is 45kmpl\n"
     ]
    }
   ],
   "source": [
    "\"\"\"Q1. What is Abstraction in OOps? Explain with an example.\"\"\"\n",
    "\n",
    "#Abstraction is the process of hiding the internal details of an application from the outer world.\n",
    "from abc import ABC\n",
    "class bike(ABC):\n",
    "    def __init__(self):\n",
    "        pass\n",
    "    \n",
    "class jawa_42_bobber(bike):\n",
    "    def mileage(self):\n",
    "        print(\"Mileage is 30kmpl\")\n",
    "              \n",
    "class honda_shine(bike):\n",
    "    def mileage(self):\n",
    "        print(\"Mileage is 45kmpl\")\n",
    "              \n",
    "jawa=jawa_42_bobber()\n",
    "jawa.mileage()\n",
    "             \n",
    "shine=honda_shine()\n",
    "shine.mileage()"
   ]
  },
  {
   "cell_type": "code",
   "execution_count": 6,
   "id": "516196ad-153a-4790-9741-05939a33c587",
   "metadata": {},
   "outputs": [
    {
     "name": "stdout",
     "output_type": "stream",
     "text": [
      "Mileage is 30kmpl\n",
      "Mileage is 45kmpl\n",
      "\n",
      "getter method called\n"
     ]
    },
    {
     "data": {
      "text/plain": [
       "'11 feb 2003'"
      ]
     },
     "execution_count": 6,
     "metadata": {},
     "output_type": "execute_result"
    }
   ],
   "source": [
    "\"\"\"Q2. Differentiate between Abstraction and Encapsulation. Explain with an example.\"\"\"\n",
    "\n",
    "#Data Abstraction is the property by virtue of which only the essential details are displayed to the user. \n",
    "\n",
    "from abc import ABC\n",
    "class bike(ABC):\n",
    "    def __init__(self):\n",
    "        pass\n",
    "    \n",
    "class jawa_42_bobber(bike):\n",
    "    def mileage(self):\n",
    "        print(\"Mileage is 30kmpl\")\n",
    "              \n",
    "class honda_shine(bike):\n",
    "    def mileage(self):\n",
    "        print(\"Mileage is 45kmpl\")\n",
    "              \n",
    "jawa=jawa_42_bobber()\n",
    "jawa.mileage()\n",
    "             \n",
    "shine=honda_shine()\n",
    "shine.mileage()\n",
    "\n",
    "#Encapsulation is defined as the wrapping up of data under a single unit. It is the mechanism that binds together code and the data it manipulates\n",
    "\n",
    "class private_data():\n",
    "    def __init__(self):\n",
    "        self._DOB='11 feb 2003'\n",
    "        \n",
    "    def get_DOB(self):\n",
    "        print()\n",
    "        print('getter method called')\n",
    "        return self._DOB\n",
    "    \n",
    "info=private_data()\n",
    "info.get_DOB()"
   ]
  },
  {
   "cell_type": "code",
   "execution_count": 7,
   "id": "7bc5e255-7491-487f-89cd-244f8fcf7fd5",
   "metadata": {},
   "outputs": [
    {
     "data": {
      "text/plain": [
       "'Q3. What is abc module in python? Why is it used?'"
      ]
     },
     "execution_count": 7,
     "metadata": {},
     "output_type": "execute_result"
    }
   ],
   "source": [
    "\"\"\"Q3. What is abc module in python? Why is it used?\"\"\"\n",
    "\n",
    "#Python provides a module called abc that provides the infrastructure for defining the base of Abstract Base Classes(ABC).\n",
    "#Abstract class cannot be instantiated in python"
   ]
  },
  {
   "cell_type": "code",
   "execution_count": 10,
   "id": "1eb6d4a4-3fe5-4ce2-867c-15a011e8c1a2",
   "metadata": {},
   "outputs": [
    {
     "data": {
      "text/plain": [
       "'Q4. How can we achieve data abstraction?'"
      ]
     },
     "execution_count": 10,
     "metadata": {},
     "output_type": "execute_result"
    }
   ],
   "source": [
    "\"\"\"Q4. How can we achieve data abstraction?\"\"\"\n",
    "\n",
    "#We can achieve data abstraction through Abstract classes and interfaces.\n",
    "#Through abstract classes, you can achieve partial or complete abstraction \n",
    "#as abstract classes contain methods that have an implementation which can result in partial abstraction.\n",
    "# syntax: from abc import ABC\n",
    "#         class classname(ABC):"
   ]
  },
  {
   "cell_type": "code",
   "execution_count": null,
   "id": "cf93ab6f-581d-4a35-a8f5-727161a6af4a",
   "metadata": {},
   "outputs": [],
   "source": [
    "\"\"\"Q5. Can we create an instance of an abstract class? Explain your answer.\"\"\"\n",
    "\n",
    "#Abstract classes cannot be instantiated, but they can be subclassed. \n",
    "#When an abstract class is subclassed, the subclass usually provides implementations for all of the abstract methods in its parent class.\n"
   ]
  }
 ],
 "metadata": {
  "kernelspec": {
   "display_name": "Python 3 (ipykernel)",
   "language": "python",
   "name": "python3"
  },
  "language_info": {
   "codemirror_mode": {
    "name": "ipython",
    "version": 3
   },
   "file_extension": ".py",
   "mimetype": "text/x-python",
   "name": "python",
   "nbconvert_exporter": "python",
   "pygments_lexer": "ipython3",
   "version": "3.10.8"
  }
 },
 "nbformat": 4,
 "nbformat_minor": 5
}
