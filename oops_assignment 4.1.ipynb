{
 "cells": [
  {
   "cell_type": "code",
   "execution_count": 1,
   "id": "5ccf6c89-8e05-4ae8-b2bf-69e9fb877ffb",
   "metadata": {},
   "outputs": [],
   "source": [
    "\"\"\"Q1, Create a vehicle class with an init method having instance variables as name_of_vehicle, max_speed\n",
    "and average_of_vehicle.\"\"\"\n",
    "\n",
    "class vehicle:\n",
    "    def __init__(self,name_of_vehicle,max_speed,average_of_vehicle):\n",
    "        self.name_of_vehicle=name_of_vehicle\n",
    "        self.max_speed=max_speed\n",
    "        self.average_of_vehicle=average_of_vehicle\n",
    "        \n",
    "    def vehicle_details(self):\n",
    "        return self.name_of_vehicle,self.max_speed,self.average_of_vehicle\n",
    "    \n",
    "init=vehicle(\"ciaz\",150,20)"
   ]
  },
  {
   "cell_type": "code",
   "execution_count": 2,
   "id": "8dce3385-06ec-4b35-b2b2-5f4ac8d85d11",
   "metadata": {},
   "outputs": [
    {
     "data": {
      "text/plain": [
       "20"
      ]
     },
     "execution_count": 2,
     "metadata": {},
     "output_type": "execute_result"
    }
   ],
   "source": [
    "init.average_of_vehicle"
   ]
  },
  {
   "cell_type": "code",
   "execution_count": 3,
   "id": "ee239e33-4262-4e0d-8c7b-79a4a7180577",
   "metadata": {
    "tags": []
   },
   "outputs": [],
   "source": [
    "\"\"\"Q2. Create a child class car from the vehicle class created in Que 1, which will inherit the vehicle class.\n",
    "Create a method named seating_capacity which takes capacity as an argument and returns the name of\n",
    "the vehicle and its seating capacity.\"\"\"\n",
    "\n",
    "class vehicle:\n",
    "    def __init__(self,name_of_vehicle,max_speed,average_of_vehicle):\n",
    "        self.name_of_vehicle=name_of_vehicle\n",
    "        self.max_speed=max_speed\n",
    "        self.average_of_vehicle=average_of_vehicle\n",
    "        \n",
    "    def seating_capacity(self,capacity):\n",
    "        self.capacity=capacity \n",
    "        \n",
    "    def vehicle_details(self):\n",
    "        return self.name_of_vehicle,self.capacity\n",
    "    \n",
    "\n",
    "\n",
    "class car(vehicle):\n",
    "    pass\n",
    "    \n",
    "init=vehicle(\"ciaz\",150,20)\n",
    "init.seating_capacity(5)"
   ]
  },
  {
   "cell_type": "code",
   "execution_count": 4,
   "id": "88d2c72a-17fb-4853-8d87-e8261657eb92",
   "metadata": {},
   "outputs": [
    {
     "data": {
      "text/plain": [
       "('ciaz', 5)"
      ]
     },
     "execution_count": 4,
     "metadata": {},
     "output_type": "execute_result"
    }
   ],
   "source": [
    "init.vehicle_details()"
   ]
  },
  {
   "cell_type": "code",
   "execution_count": 5,
   "id": "e955d565-69cd-4fc0-899d-0e6c4ea1471e",
   "metadata": {},
   "outputs": [],
   "source": [
    "\"\"\"Q3. What is multiple inheritance? Write a python code to demonstrate multiple inheritance.\"\"\"\n",
    "\n",
    "#A class can be derived from more than one superclass in Python. This is called multiple inheritance.\n",
    "\n",
    "class data:\n",
    "    def syllabus(self):\n",
    "        print(\"This is my data\")\n",
    "        \n",
    "class output:\n",
    "    def syllabus1(self):\n",
    "        print(\"This is my output\")\n",
    "        \n",
    "class mul_inh(data,output):\n",
    "    pass\n",
    "\n",
    "b=mul_inh()"
   ]
  },
  {
   "cell_type": "code",
   "execution_count": 6,
   "id": "4c1a899b-3c53-47bf-96e8-8ce3668296c8",
   "metadata": {},
   "outputs": [
    {
     "name": "stdout",
     "output_type": "stream",
     "text": [
      "This is my data\n",
      "This is my output\n"
     ]
    }
   ],
   "source": [
    "b.syllabus()\n",
    "b.syllabus1()"
   ]
  },
  {
   "cell_type": "code",
   "execution_count": 7,
   "id": "19578485-ea3b-405a-a67b-8fccb7d330ee",
   "metadata": {},
   "outputs": [],
   "source": [
    "\"\"\"What are getter and setter in python? Create a class and create a getter and a setter method in this\n",
    "class.\"\"\"\n",
    "\n",
    "#Getter helps to access the private attributes from a class.\n",
    "#Setter helps to set the value in the private attributes from a class.\n",
    "\n",
    "class private_data():\n",
    "    def __init__(self):\n",
    "        self._DOB='11 feb 2003'\n",
    "        \n",
    "    def get_DOB(self):\n",
    "        print('getter method called')\n",
    "        return self._DOB\n",
    "    def set_DOB(self,a):\n",
    "        print('setter method called')\n",
    "        self._DOB=a\n",
    "        \n",
    "info=private_data()"
   ]
  },
  {
   "cell_type": "code",
   "execution_count": 8,
   "id": "69f46b36-5559-4ebf-9a1c-11f5498f2b4c",
   "metadata": {},
   "outputs": [
    {
     "name": "stdout",
     "output_type": "stream",
     "text": [
      "getter method called\n"
     ]
    },
    {
     "data": {
      "text/plain": [
       "'11 feb 2003'"
      ]
     },
     "execution_count": 8,
     "metadata": {},
     "output_type": "execute_result"
    }
   ],
   "source": [
    "info.get_DOB()"
   ]
  },
  {
   "cell_type": "code",
   "execution_count": 9,
   "id": "5873db63-f0e3-43df-89df-6ce794abaaee",
   "metadata": {},
   "outputs": [
    {
     "name": "stdout",
     "output_type": "stream",
     "text": [
      "setter method called\n"
     ]
    }
   ],
   "source": [
    "info.set_DOB('28 june 2003')"
   ]
  },
  {
   "cell_type": "code",
   "execution_count": 10,
   "id": "df9e453a-3a83-402f-97d9-96ba661ae5d8",
   "metadata": {},
   "outputs": [
    {
     "name": "stdout",
     "output_type": "stream",
     "text": [
      "getter method called\n"
     ]
    },
    {
     "data": {
      "text/plain": [
       "'28 june 2003'"
      ]
     },
     "execution_count": 10,
     "metadata": {},
     "output_type": "execute_result"
    }
   ],
   "source": [
    "info.get_DOB()"
   ]
  },
  {
   "cell_type": "code",
   "execution_count": 11,
   "id": "03193344-79ea-4e81-b793-8b7d420a419f",
   "metadata": {},
   "outputs": [],
   "source": [
    "\"\"\"Q5.What is method overriding in python? Write a python code to demonstrate method overriding.\"\"\"\n",
    "\n",
    "#Method overriding is an ability of any object-oriented programming language that allows a subclass or \n",
    "#child class to provide a specific implementation of a method that is already provided by one of its super-classes or parent classes.\n",
    "\n",
    "class parent:\n",
    "    def __init__(self):\n",
    "        self.value='parent class'\n",
    "        \n",
    "    def show(self):\n",
    "        print(self.value)\n",
    "        \n",
    "class child(parent):\n",
    "    def __init__(self):\n",
    "        self.value='child class'\n",
    "#overriding of code\n",
    "    def show(self):\n",
    "        print(self.value)\n",
    "        \n",
    "obj1=parent()\n",
    "obj2=child()"
   ]
  },
  {
   "cell_type": "code",
   "execution_count": 12,
   "id": "d2bd8506-4afd-4f6f-86cc-7c0a7ee20fea",
   "metadata": {},
   "outputs": [
    {
     "name": "stdout",
     "output_type": "stream",
     "text": [
      "parent class\n"
     ]
    }
   ],
   "source": [
    "obj1.show()"
   ]
  },
  {
   "cell_type": "code",
   "execution_count": 13,
   "id": "f22a5e41-9d8b-431e-a3a8-ffb7f5501de6",
   "metadata": {},
   "outputs": [
    {
     "name": "stdout",
     "output_type": "stream",
     "text": [
      "child class\n"
     ]
    }
   ],
   "source": [
    "obj2.show()"
   ]
  }
 ],
 "metadata": {
  "kernelspec": {
   "display_name": "Python 3 (ipykernel)",
   "language": "python",
   "name": "python3"
  },
  "language_info": {
   "codemirror_mode": {
    "name": "ipython",
    "version": 3
   },
   "file_extension": ".py",
   "mimetype": "text/x-python",
   "name": "python",
   "nbconvert_exporter": "python",
   "pygments_lexer": "ipython3",
   "version": "3.10.8"
  }
 },
 "nbformat": 4,
 "nbformat_minor": 5
}
