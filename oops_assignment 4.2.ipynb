{
 "cells": [
  {
   "cell_type": "code",
   "execution_count": 1,
   "id": "e65d794a-6e55-4678-8375-fa7fb2ed03bf",
   "metadata": {},
   "outputs": [],
   "source": [
    "\"\"\"Q1. Explain Class and Object with respect to Object-Oriented Programming. Give a suitable example.\"\"\"\n",
    "\n",
    "#A class can be defined as a template/blueprint that describes the behavior/state that the object of its type support.\n",
    "# An object is an instance of a class.\n",
    "\n",
    "class Person:\n",
    "#name is an object\n",
    "    def __init__(self, name):\n",
    "        self.name = name\n",
    "\n",
    "human=Person('vivek')"
   ]
  },
  {
   "cell_type": "code",
   "execution_count": 2,
   "id": "dc56e06e-82dc-49f3-86fb-a1daba95beab",
   "metadata": {},
   "outputs": [
    {
     "data": {
      "text/plain": [
       "'vivek'"
      ]
     },
     "execution_count": 2,
     "metadata": {},
     "output_type": "execute_result"
    }
   ],
   "source": [
    "human.name"
   ]
  },
  {
   "cell_type": "code",
   "execution_count": 3,
   "id": "c475efb9-33d0-46d5-85a3-dbbb7cc4ce09",
   "metadata": {},
   "outputs": [
    {
     "data": {
      "text/plain": [
       "'Q2. Name the four pillars of OOPs.'"
      ]
     },
     "execution_count": 3,
     "metadata": {},
     "output_type": "execute_result"
    }
   ],
   "source": [
    "\"\"\"Q2. Name the four pillars of OOPs.\"\"\"\n",
    "#Inheritance, Polymorphism, Encapsulation, and Abstraction"
   ]
  },
  {
   "cell_type": "code",
   "execution_count": 4,
   "id": "4bb19a71-4aae-4095-b7b3-1c54123aad32",
   "metadata": {},
   "outputs": [],
   "source": [
    "\"\"\"Q3. Explain why the __init__() function is used. Give a suitable example.\"\"\"\n",
    "\n",
    "#__init__ function is used in class to initialize the object's attributes.\n",
    "class Person:\n",
    "    def __init__(self, name):\n",
    "        self.name = name\n",
    "\n",
    "human=Person('vivek')"
   ]
  },
  {
   "cell_type": "code",
   "execution_count": 5,
   "id": "bc03d428-67bc-423b-a969-121d5ab16945",
   "metadata": {},
   "outputs": [
    {
     "data": {
      "text/plain": [
       "'vivek'"
      ]
     },
     "execution_count": 5,
     "metadata": {},
     "output_type": "execute_result"
    }
   ],
   "source": [
    "human.name"
   ]
  },
  {
   "cell_type": "code",
   "execution_count": 6,
   "id": "3b6f796d-3304-4cb3-979c-409040adfa6b",
   "metadata": {},
   "outputs": [
    {
     "data": {
      "text/plain": [
       "'Q4. Why self is used in OOPs?'"
      ]
     },
     "execution_count": 6,
     "metadata": {},
     "output_type": "execute_result"
    }
   ],
   "source": [
    "\"\"\"Q4. Why self is used in OOPs?\"\"\"\n",
    "\n",
    "#self is used for binding a function with the class and it is not a keyword we can used another word for accessing function."
   ]
  },
  {
   "cell_type": "code",
   "execution_count": 18,
   "id": "edb85a35-1264-4a65-a287-ce8a240da282",
   "metadata": {},
   "outputs": [],
   "source": [
    "\"\"\"Q5. What is inheritance? Give an example for each type of inheritance.\"\"\"\n",
    "\n",
    "#Inheritance is defined as the mechanism of inheriting the properties of the base class to the child class.\n",
    "\n",
    "class Parent:\n",
    "    def func1(self):\n",
    "        print(\"This function is in father class.\")"
   ]
  },
  {
   "cell_type": "code",
   "execution_count": 19,
   "id": "25bbe12a-524e-4739-9489-4beda8cf7910",
   "metadata": {},
   "outputs": [],
   "source": [
    "#single inheritance\n",
    "class Child1(Parent):\n",
    "    def func2(self):\n",
    "        print(\"This function is in child class.\")\n",
    " \n",
    "obj1=Child1()"
   ]
  },
  {
   "cell_type": "code",
   "execution_count": 20,
   "id": "778673df-e701-4236-af98-f6dd91072ddd",
   "metadata": {},
   "outputs": [
    {
     "name": "stdout",
     "output_type": "stream",
     "text": [
      "This function is in father class.\n",
      "This function is in child class.\n"
     ]
    }
   ],
   "source": [
    "obj1.func1()\n",
    "obj1.func2()"
   ]
  },
  {
   "cell_type": "code",
   "execution_count": 21,
   "id": "f36d0da5-b3af-4f87-a3c4-eaf955b5cb43",
   "metadata": {},
   "outputs": [],
   "source": [
    "#Multilevel inheritance\n",
    "\n",
    "class Child2(Child1):\n",
    "    def func3(self):\n",
    "        print('This is chlid2')\n",
    "        \n",
    "obj2=Child2()"
   ]
  },
  {
   "cell_type": "code",
   "execution_count": 22,
   "id": "ace1691e-e1ff-4cb2-b2ed-ebd806259229",
   "metadata": {},
   "outputs": [
    {
     "name": "stdout",
     "output_type": "stream",
     "text": [
      "This function is in father class.\n",
      "This function is in child class.\n",
      "This is chlid2\n"
     ]
    }
   ],
   "source": [
    "obj2.func1()\n",
    "obj2.func2()\n",
    "obj2.func3()"
   ]
  },
  {
   "cell_type": "code",
   "execution_count": 23,
   "id": "76e429ca-ab3b-40b6-b482-5222eb917e05",
   "metadata": {},
   "outputs": [],
   "source": [
    "#multiple inheritance\n",
    "\n",
    "class mother:\n",
    "    def func(self):\n",
    "        print('This is mother class')\n",
    "        \n",
    "class child4(Parent,mother):\n",
    "    pass\n",
    "\n",
    "obj=child4()"
   ]
  },
  {
   "cell_type": "code",
   "execution_count": 17,
   "id": "5109e682-27d5-4f2c-9a06-f6f7076b8314",
   "metadata": {},
   "outputs": [
    {
     "name": "stdout",
     "output_type": "stream",
     "text": [
      "This function is in father class.\n",
      "This is mother class\n"
     ]
    }
   ],
   "source": [
    "obj.func1()\n",
    "obj.func()"
   ]
  },
  {
   "cell_type": "code",
   "execution_count": null,
   "id": "a4e2f521-4746-4bb0-9765-82125f35e43c",
   "metadata": {},
   "outputs": [],
   "source": []
  }
 ],
 "metadata": {
  "kernelspec": {
   "display_name": "Python 3 (ipykernel)",
   "language": "python",
   "name": "python3"
  },
  "language_info": {
   "codemirror_mode": {
    "name": "ipython",
    "version": 3
   },
   "file_extension": ".py",
   "mimetype": "text/x-python",
   "name": "python",
   "nbconvert_exporter": "python",
   "pygments_lexer": "ipython3",
   "version": "3.10.8"
  }
 },
 "nbformat": 4,
 "nbformat_minor": 5
}
