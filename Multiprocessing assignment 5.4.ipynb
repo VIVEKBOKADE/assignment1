{
 "cells": [
  {
   "cell_type": "code",
   "execution_count": 1,
   "id": "9c5bba44-3d6b-48ac-aa5f-4492b9b720f2",
   "metadata": {},
   "outputs": [
    {
     "data": {
      "text/plain": [
       "'Q1. What is multiprocessing in python? Why is it useful?'"
      ]
     },
     "execution_count": 1,
     "metadata": {},
     "output_type": "execute_result"
    }
   ],
   "source": [
    "\"\"\"Q1. What is multiprocessing in python? Why is it useful?\"\"\"\n",
    "\n",
    "#multiprocessing is a package that supports spawning processes using an API similar to the threading module.\n",
    "#The multiprocessing package offers both local and remote concurrency, effectively side-stepping the \n",
    "#Global Interpreter Lock by using subprocesses instead of threads.\n",
    "#Multiprocessing in Python is a built-in package that allows the system to run multiple processes simultaneously.\n",
    "#It will enable the breaking of applications into smaller threads that can run independently."
   ]
  },
  {
   "cell_type": "code",
   "execution_count": 2,
   "id": "ad13838b-834b-4507-bf81-c402d59fd4e3",
   "metadata": {},
   "outputs": [
    {
     "data": {
      "text/plain": [
       "'Q2. What are the differences between multiprocessing and multithreading?'"
      ]
     },
     "execution_count": 2,
     "metadata": {},
     "output_type": "execute_result"
    }
   ],
   "source": [
    "\"\"\"Q2. What are the differences between multiprocessing and multithreading?\"\"\"\n",
    "\n",
    "#Multiprocessing\t\n",
    "\n",
    "#In Multiprocessing, CPUs are added for increasing computing power.\n",
    "#In Multiprocessing, Many processes are executed simultaneously.\n",
    "#Multiprocessing are classified into Symmetric and Asymmetric.\t\n",
    "#In Multiprocessing, Process creation is a time-consuming process.\t\n",
    "#In Multiprocessing, every process owned a separate address space.\n",
    "\n",
    "#Multithreading\n",
    "\n",
    "#While In Multithreading, many threads are created of a single process for increasing computing power\n",
    "#While in multithreading, many threads of a process are executed simultaneously.\n",
    "#While Multithreading is not classified in any categories.\n",
    "#While in Multithreading, process creation is according to economical.\n",
    "#While in Multithreading, a common address space is shared by all the threads."
   ]
  },
  {
   "cell_type": "code",
   "execution_count": 3,
   "id": "309ad0c7-272d-4d00-ba4e-ca254a452b60",
   "metadata": {},
   "outputs": [
    {
     "name": "stdout",
     "output_type": "stream",
     "text": [
      "Number of cpu :  64\n"
     ]
    }
   ],
   "source": [
    "\"\"\"Q3. Write a python code to create a process using the multiprocessing module.\"\"\"\n",
    "\n",
    "import multiprocessing\n",
    "\n",
    "print(\"Number of cpu : \", multiprocessing.cpu_count())"
   ]
  },
  {
   "cell_type": "code",
   "execution_count": 4,
   "id": "f6009514-e2c2-4fe2-a0ca-556c76f88896",
   "metadata": {},
   "outputs": [
    {
     "data": {
      "text/plain": [
       "'Q4. What is a multiprocessing pool in python? Why is it used?'"
      ]
     },
     "execution_count": 4,
     "metadata": {},
     "output_type": "execute_result"
    }
   ],
   "source": [
    "\"\"\"Q4. What is a multiprocessing pool in python? Why is it used?\"\"\"\n",
    "\n",
    "#Python multiprocessing Pool can be used for parallel execution of a function across multiple input values, \n",
    "#distributing the input data across processes (data parallelism).\n",
    "#The pool allows you to do multiple jobs per process, which may make it easier to parallelize your program."
   ]
  },
  {
   "cell_type": "code",
   "execution_count": 5,
   "id": "36cb4dff-ab55-4925-8457-00a5dc0e8291",
   "metadata": {},
   "outputs": [
    {
     "name": "stdout",
     "output_type": "stream",
     "text": [
      "<multiprocessing.pool.Pool state=RUN pool_size=60>\n"
     ]
    }
   ],
   "source": [
    "\"\"\"Q5. How can we create a pool of worker processes in python using the multiprocessing module?\"\"\"\n",
    "\n",
    "from multiprocessing.pool import Pool\n",
    "\n",
    "if __name__ == '__main__':\n",
    "    with Pool(60) as pool:\n",
    "        print(pool)"
   ]
  },
  {
   "cell_type": "code",
   "execution_count": 6,
   "id": "2799da73-788a-4153-a157-7904ae3f429e",
   "metadata": {},
   "outputs": [
    {
     "name": "stdout",
     "output_type": "stream",
     "text": [
      "Process Process-61 prints: 0\n",
      "Process Process-62 prints: 1\n",
      "Process Process-63 prints: 2\n",
      "Process Process-64 prints: 3\n"
     ]
    }
   ],
   "source": [
    "\"\"\"Q6. Write a python program to create 4 processes, each process should print a different number using the\n",
    "multiprocessing module in python.\"\"\"\n",
    "\n",
    "import multiprocessing\n",
    "\n",
    "def print_number(number):\n",
    "    print(\"Process {} prints: {}\".format(multiprocessing.current_process().name, number))\n",
    "\n",
    "if __name__ == '__main__':\n",
    "    processes = []\n",
    "    for i in range(4):\n",
    "        p = multiprocessing.Process(target=print_number, args=(i,))\n",
    "        processes.append(p)\n",
    "        p.start()\n",
    "\n",
    "    for process in processes:\n",
    "        process.join()\n"
   ]
  },
  {
   "cell_type": "code",
   "execution_count": null,
   "id": "200c9ec7-f0f5-4421-a704-885d9f60acad",
   "metadata": {},
   "outputs": [],
   "source": []
  }
 ],
 "metadata": {
  "kernelspec": {
   "display_name": "Python 3 (ipykernel)",
   "language": "python",
   "name": "python3"
  },
  "language_info": {
   "codemirror_mode": {
    "name": "ipython",
    "version": 3
   },
   "file_extension": ".py",
   "mimetype": "text/x-python",
   "name": "python",
   "nbconvert_exporter": "python",
   "pygments_lexer": "ipython3",
   "version": "3.10.8"
  }
 },
 "nbformat": 4,
 "nbformat_minor": 5
}
